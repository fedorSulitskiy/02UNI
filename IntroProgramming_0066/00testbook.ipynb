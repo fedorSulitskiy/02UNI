{
 "cells": [
  {
   "cell_type": "code",
   "execution_count": 1,
   "id": "f0721755",
   "metadata": {},
   "outputs": [],
   "source": [
    "import CWDRAFT as cw"
   ]
  },
  {
   "cell_type": "code",
   "execution_count": 3,
   "id": "51a4f1b6",
   "metadata": {},
   "outputs": [
    {
     "name": "stdout",
     "output_type": "stream",
     "text": [
      "   0\n",
      "0  1\n",
      "1  2\n",
      "2  2\n",
      "3  3\n",
      "4  4\n"
     ]
    }
   ],
   "source": [
    "cw.test()"
   ]
  },
  {
   "cell_type": "code",
   "execution_count": null,
   "id": "c91ba03d",
   "metadata": {},
   "outputs": [],
   "source": [
    "test()"
   ]
  }
 ],
 "metadata": {
  "kernelspec": {
   "display_name": "Python 3 (ipykernel)",
   "language": "python",
   "name": "python3"
  },
  "language_info": {
   "codemirror_mode": {
    "name": "ipython",
    "version": 3
   },
   "file_extension": ".py",
   "mimetype": "text/x-python",
   "name": "python",
   "nbconvert_exporter": "python",
   "pygments_lexer": "ipython3",
   "version": "3.9.12"
  },
  "vscode": {
   "interpreter": {
    "hash": "d0ca99d34bd1872c96d43ed2ca9b6ebe785ba18a72504b954bc1a2a660bf966a"
   }
  }
 },
 "nbformat": 4,
 "nbformat_minor": 5
}
