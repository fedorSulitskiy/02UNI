{
 "cells": [
  {
   "cell_type": "code",
   "execution_count": 1,
   "metadata": {},
   "outputs": [],
   "source": [
    "import algorithmics as alg\n",
    "import numpy as np\n",
    "import operator"
   ]
  },
  {
   "cell_type": "code",
   "execution_count": 21,
   "metadata": {},
   "outputs": [
    {
     "name": "stdout",
     "output_type": "stream",
     "text": [
      "[1, 2, 3, 4, 5, 6, 7, 8] --> [1, 2, 3, 4]  +  [5, 6, 7, 8]\n",
      "LEFT [1, 2, 3, 4] \n",
      "\n"
     ]
    },
    {
     "data": {
      "text/plain": [
       "1"
      ]
     },
     "execution_count": 21,
     "metadata": {},
     "output_type": "execute_result"
    }
   ],
   "source": [
    "Array = [1,2,3,4,5,6,7,8]\n",
    "x = 1\n",
    "alg.BinSearch(Array,x,True)"
   ]
  },
  {
   "cell_type": "code",
   "execution_count": 3,
   "metadata": {
    "scrolled": false
   },
   "outputs": [
    {
     "name": "stdout",
     "output_type": "stream",
     "text": [
      "DIVIDE\n",
      "[1, 5, 3, 7, 2, 6, 4, 8, 9]\n",
      "[[1, 5, 3, 7], [2, 6, 4, 8, 9]]\n",
      "[[2, 6, 4, 8, 9], [1, 5], [3, 7]]\n",
      "[[1, 5], [3, 7], [2, 6], [4, 8, 9]]\n",
      "[[3, 7], [2, 6], [4, 8, 9], [1], [5]]\n",
      "[[2, 6], [4, 8, 9], [1], [5], [3], [7]]\n",
      "[[4, 8, 9], [1], [5], [3], [7], [2], [6]]\n",
      "[[1], [5], [3], [7], [2], [6], [4, 8], [9]]\n",
      "[[1], [5], [3], [7], [2], [6], [9], [4], [8]]\n",
      "& CONQUER\n",
      "[[3], [7], [2], [6], [9], [4], [8], [1, 5]]\n",
      "[[2], [6], [9], [4], [8], [1, 5], [3, 7]]\n",
      "[[9], [4], [8], [1, 5], [3, 7], [2, 6]]\n",
      "[[8], [1, 5], [3, 7], [2, 6], [4, 9]]\n",
      "[[3, 7], [2, 6], [4, 9], [1, 5, 8]]\n",
      "[[4, 9], [1, 5, 8], [2, 3, 6, 7]]\n",
      "[[2, 3, 6, 7], [1, 4, 5, 8, 9]]\n",
      "[[1, 2, 3, 4, 5, 6, 7, 8, 9]]\n"
     ]
    },
    {
     "data": {
      "text/plain": [
       "[1, 2, 3, 4, 5, 6, 7, 8, 9]"
      ]
     },
     "execution_count": 3,
     "metadata": {},
     "output_type": "execute_result"
    }
   ],
   "source": [
    "Array = [1,5,3,7,2,6,4,8,9]\n",
    "\n",
    "alg.MergeSort(Array,True)"
   ]
  },
  {
   "cell_type": "code",
   "execution_count": 107,
   "metadata": {},
   "outputs": [
    {
     "data": {
      "text/plain": [
       "([1], [5, 3, 7, 2, 6, 4, 8, 9])"
      ]
     },
     "execution_count": 107,
     "metadata": {},
     "output_type": "execute_result"
    }
   ],
   "source": [
    "Array = [1,5,3,7,2,6,4,8,9]\n",
    "lst = []\n",
    "pivot = Array[0]\n",
    "l = [i for i in Array if i <=pivot]\n",
    "r = [i for i in Array if i > pivot]\n",
    "lst += [i[0] for i in [l,r] if len(i) == 1]\n",
    "Array = [i for i in [l,r] if len(i) != 1]\n",
    "l,r"
   ]
  },
  {
   "cell_type": "code",
   "execution_count": 90,
   "metadata": {},
   "outputs": [
    {
     "data": {
      "text/plain": [
       "[[5, 3, 7, 2, 6, 4, 8, 9]]"
      ]
     },
     "execution_count": 90,
     "metadata": {},
     "output_type": "execute_result"
    }
   ],
   "source": [
    "Array"
   ]
  },
  {
   "cell_type": "code",
   "execution_count": 126,
   "metadata": {},
   "outputs": [
    {
     "name": "stdout",
     "output_type": "stream",
     "text": [
      "[5, 3, 7, 2, 6, 4, 8, 9] [5, 3, 2, 4] [7, 6, 8, 9] 5\n",
      "[[7, 6, 8, 9], [5, 3, 2, 4]]\n",
      "[7, 6, 8, 9] [7, 6] [8, 9] 7\n",
      "[[8, 9], [7, 6], [5, 3, 2, 4]]\n",
      "[7, 6] [8, 9]\n"
     ]
    }
   ],
   "source": [
    "Array = [1,5,3,7,2,6,4,8,9]\n",
    "lst = []\n",
    "pivot = Array[0]\n",
    "l = [i for i in Array if i <=pivot]\n",
    "r = [i for i in Array if i > pivot]\n",
    "lst += [i[0] for i in [l,r] if len(i) == 1]\n",
    "Array = [i for i in [l,r] if len(i) != 1]\n",
    "\n",
    "for x in Array:\n",
    "    \n",
    "    while\n",
    "        pivot = x[0]\n",
    "\n",
    "        r = [i for i in x if i > pivot]\n",
    "        l = [i for i in x if i <=pivot]\n",
    "\n",
    "        if len(r) == 0:\n",
    "            l = [i for i in x if i < pivot]\n",
    "            r = [i for i in x if i >=pivot]\n",
    "\n",
    "        lst += [i[0] for i in [l,r] if len(i) == 1]\n",
    "        Array += [i for i in [l,r] if len(i) != 1]\n",
    "        Array.remove(x)\n",
    "        print(x,l,r,pivot)\n",
    "        print(Array)\n",
    "    \n",
    "print(l,r)"
   ]
  },
  {
   "cell_type": "code",
   "execution_count": 130,
   "metadata": {},
   "outputs": [
    {
     "data": {
      "text/plain": [
       "[[7, 6], [8, 9]]"
      ]
     },
     "execution_count": 130,
     "metadata": {},
     "output_type": "execute_result"
    }
   ],
   "source": [
    "Array"
   ]
  },
  {
   "cell_type": "code",
   "execution_count": 127,
   "metadata": {},
   "outputs": [
    {
     "data": {
      "text/plain": [
       "[1]"
      ]
     },
     "execution_count": 127,
     "metadata": {},
     "output_type": "execute_result"
    }
   ],
   "source": [
    "lst"
   ]
  },
  {
   "cell_type": "code",
   "execution_count": 173,
   "metadata": {},
   "outputs": [
    {
     "data": {
      "text/plain": [
       "([5, 3, 2, 4], [7, 6, 8, 9], [[5, 3, 2, 4], [7, 6, 8, 9]])"
      ]
     },
     "execution_count": 173,
     "metadata": {},
     "output_type": "execute_result"
    }
   ],
   "source": [
    "Array = [5,3,7,2,6,4,8,9]\n",
    "lst = []\n",
    "pivot = Array[0]\n",
    "r = [i for i in Array if i > pivot]\n",
    "l = [i for i in Array if i <=pivot]\n",
    "if len(r) == 0:\n",
    "    l = [i for i in Array if i < pivot]\n",
    "    r = [i for i in Array if i >=pivot]\n",
    "lst += [i[0] for i in [l,r] if len(i) == 1]\n",
    "Array = [i for i in [l,r] if len(i) != 1]\n",
    "\n",
    "l,r,Array"
   ]
  },
  {
   "cell_type": "code",
   "execution_count": 144,
   "metadata": {},
   "outputs": [
    {
     "data": {
      "text/plain": [
       "[]"
      ]
     },
     "execution_count": 144,
     "metadata": {},
     "output_type": "execute_result"
    }
   ],
   "source": [
    "lst"
   ]
  },
  {
   "cell_type": "code",
   "execution_count": 206,
   "metadata": {},
   "outputs": [],
   "source": [
    "def divider(Array):\n",
    "    pivot = Array[0]\n",
    "    r = [i for i in Array if i > pivot]\n",
    "    l = [i for i in Array if i <=pivot]\n",
    "    if len(r) == 0:\n",
    "        l = [i for i in Array if i < pivot]\n",
    "        r = [i for i in Array if i >=pivot]\n",
    "    return [l,r]"
   ]
  },
  {
   "cell_type": "code",
   "execution_count": 215,
   "metadata": {},
   "outputs": [
    {
     "data": {
      "text/plain": [
       "[[5, 3, 2, 4], [7, 6, 8, 9]]"
      ]
     },
     "execution_count": 215,
     "metadata": {},
     "output_type": "execute_result"
    }
   ],
   "source": [
    "Array = [5,3,7,2,6,4,8,9]\n",
    "a = divider(Array)\n",
    "a"
   ]
  },
  {
   "cell_type": "code",
   "execution_count": 232,
   "metadata": {},
   "outputs": [
    {
     "name": "stdout",
     "output_type": "stream",
     "text": [
      "[[5, 3, 2, 4], [7, 6, 8, 9]]\n",
      "[[3, 2, 4], [5]]\n",
      "[[3, 2], [4]]\n",
      "[[2], [3]]\n"
     ]
    }
   ],
   "source": [
    "Array = [5,3,7,2,6,4,8,9]\n",
    "\n",
    "for i in range(4):\n",
    "    a = divider(Array)\n",
    "    print(a)\n",
    "    if len(a[0]) > 1:\n",
    "        Array = a[0]\n",
    "    else:\n",
    "        Array = a[1]"
   ]
  },
  {
   "cell_type": "code",
   "execution_count": 233,
   "metadata": {},
   "outputs": [
    {
     "name": "stdout",
     "output_type": "stream",
     "text": [
      "[12, 19, 21, 27, 28, 29, 31, 41, 44, 44, 58, 66, 76, 78, 83, 87, 88, 97, 99]\n"
     ]
    }
   ],
   "source": [
    "def partition(array, start, end):\n",
    "    pivot = array[start]\n",
    "    low = start + 1\n",
    "    high = end\n",
    "\n",
    "    while True:\n",
    "        # If the current value we're looking at is larger than the pivot\n",
    "        # it's in the right place (right side of pivot) and we can move left,\n",
    "        # to the next element.\n",
    "        # We also need to make sure we haven't surpassed the low pointer, since that\n",
    "        # indicates we have already moved all the elements to their correct side of the pivot\n",
    "        while low <= high and array[high] >= pivot:\n",
    "            high = high - 1\n",
    "\n",
    "        # Opposite process of the one above\n",
    "        while low <= high and array[low] <= pivot:\n",
    "            low = low + 1\n",
    "\n",
    "        # We either found a value for both high and low that is out of order\n",
    "        # or low is higher than high, in which case we exit the loop\n",
    "        if low <= high:\n",
    "            array[low], array[high] = array[high], array[low]\n",
    "            # The loop continues\n",
    "        else:\n",
    "            # We exit out of the loop\n",
    "            break\n",
    "\n",
    "    array[start], array[high] = array[high], array[start]\n",
    "\n",
    "    return high\n",
    "\n",
    "\n",
    "def quick_sort(array, start, end):\n",
    "    if start >= end:\n",
    "        return\n",
    "\n",
    "    p = partition(array, start, end)\n",
    "    quick_sort(array, start, p-1)\n",
    "    quick_sort(array, p+1, end)\n",
    "    \n",
    "array = [29,99,27,41,66,28,44,78,87,19,31,76,58,88,83,97,12,21,44]\n",
    "\n",
    "quick_sort(array, 0, len(array) - 1)\n",
    "print(array)"
   ]
  },
  {
   "cell_type": "code",
   "execution_count": 212,
   "metadata": {},
   "outputs": [
    {
     "name": "stdout",
     "output_type": "stream",
     "text": [
      "[5, 3, 7, 2, 6, 4, 8, 9]\n",
      "[[7, 6, 8, 9], [3, 2, 4], [5]]\n",
      "[5, 3, 7, 2, 6, 4, 8, 9]\n",
      "[[3, 2, 4], [5], [7, 6], [8, 9]]\n",
      "[5, 3, 7, 2, 6, 4, 8, 9]\n",
      "[[5], [7, 6], [8, 9], [3, 2], [4]]\n",
      "[5, 3, 7, 2, 6, 4, 8, 9]\n",
      "[[7, 6], [8, 9], [3, 2], [4], [], [5]]\n",
      "[5, 3, 7, 2, 6, 4, 8, 9]\n",
      "[[8, 9], [3, 2], [4], [], [5], [6], [7]]\n",
      "[5, 3, 7, 2, 6, 4, 8, 9]\n",
      "[[3, 2], [4], [], [5], [6], [7], [8], [9]]\n"
     ]
    }
   ],
   "source": [
    "Array = [5,3,7,2,6,4,8,9]\n",
    "a = divider(Array)\n",
    "lst = []"
   ]
  },
  {
   "cell_type": "code",
   "execution_count": 213,
   "metadata": {},
   "outputs": [
    {
     "data": {
      "text/plain": [
       "[5]"
      ]
     },
     "execution_count": 213,
     "metadata": {},
     "output_type": "execute_result"
    }
   ],
   "source": [
    "lst"
   ]
  },
  {
   "cell_type": "code",
   "execution_count": 205,
   "metadata": {},
   "outputs": [
    {
     "name": "stdout",
     "output_type": "stream",
     "text": [
      "[5, 3, 7, 2, 6, 4, 8, 9]\n",
      "[[5, 3, 2, 4], [7, 6, 8, 9]] [] [[5, 3, 2, 4], [7, 6, 8, 9]]\n",
      "[7, 6, 8, 9]\n",
      "[[5, 3, 2, 4], [3, 2, 4]] [5] [[3, 2, 4]]\n"
     ]
    }
   ],
   "source": [
    "for i in Array:\n",
    "    a,b = divider(Array[0])\n",
    "    Array += b\n",
    "    print(i)\n",
    "    Array.remove(i)\n",
    "    print(Array,a,b)"
   ]
  }
 ],
 "metadata": {
  "kernelspec": {
   "display_name": "Python 3 (ipykernel)",
   "language": "python",
   "name": "python3"
  },
  "language_info": {
   "codemirror_mode": {
    "name": "ipython",
    "version": 3
   },
   "file_extension": ".py",
   "mimetype": "text/x-python",
   "name": "python",
   "nbconvert_exporter": "python",
   "pygments_lexer": "ipython3",
   "version": "3.9.12"
  },
  "vscode": {
   "interpreter": {
    "hash": "78f4d5eeabc4f1e607735e70d3a6d61402e9870b2eee08b6d7fa4247345d95ad"
   }
  }
 },
 "nbformat": 4,
 "nbformat_minor": 2
}
