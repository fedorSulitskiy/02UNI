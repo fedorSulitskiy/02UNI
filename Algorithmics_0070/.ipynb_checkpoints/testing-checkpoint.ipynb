{
 "cells": [
  {
   "cell_type": "code",
   "execution_count": 1,
   "metadata": {},
   "outputs": [],
   "source": [
    "import algorithmics as alg\n",
    "import numpy as np\n",
    "import operator"
   ]
  },
  {
   "cell_type": "code",
   "execution_count": 2,
   "metadata": {},
   "outputs": [
    {
     "name": "stdout",
     "output_type": "stream",
     "text": [
      "[1, 2, 3, 4, 5, 6, 7, 8] --> [1, 2, 3, 4]  +  [5, 6, 7, 8]\n",
      "RIGHT [5, 6, 7, 8] \n",
      "\n",
      "[5, 6, 7, 8] --> [5, 6]  +  [7, 8]\n",
      "LEFT [5, 6] \n",
      "\n",
      "[5, 6] --> [5]  +  [6]\n",
      "LEFT [5] \n",
      "\n"
     ]
    },
    {
     "data": {
      "text/plain": [
       "5"
      ]
     },
     "execution_count": 2,
     "metadata": {},
     "output_type": "execute_result"
    }
   ],
   "source": [
    "Array = [1,2,3,4,5,6,7,8]\n",
    "x = 5\n",
    "alg.BinSearch(Array,x,True)"
   ]
  },
  {
   "cell_type": "code",
   "execution_count": 81,
   "metadata": {},
   "outputs": [],
   "source": [
    "Array = [1,5,3,7,2,6,4,8]\n",
    "Array1 = [1,5,3,7]\n",
    "Array2 = [2,6,4,8]\n",
    "\n",
    "a = [1,2,5]\n",
    "b = [3,4,6]\n",
    "\n",
    "def conquer(a,b):\n",
    "    ac = 0\n",
    "    bc = 0\n",
    "    lst =[]\n",
    "    for i in range(len(a)+len(b)):\n",
    "        if ac < len(a) and bc < len(b):\n",
    "            if a[ac] <= b[bc]:\n",
    "                lst.append(a[ac])\n",
    "                ac += 1\n",
    "                #print(lst,ac,'ac')\n",
    "            else:\n",
    "                lst.append(b[bc])\n",
    "                bc += 1\n",
    "                #print(lst,bc,'bc')\n",
    "        else:\n",
    "            if ac == len(a):\n",
    "                lst = lst + [i for i in b if i not in lst]\n",
    "            else:\n",
    "                lst = lst + [i for i in a if i not in lst]\n",
    "    return lst\n",
    "\n",
    "def divide(Array):\n",
    "    half = int(round(len(Array)/2))\n",
    "    a = Array[:half]\n",
    "    b = Array[half:] \n",
    "    return [a,b]"
   ]
  },
  {
   "cell_type": "code",
   "execution_count": 70,
   "metadata": {},
   "outputs": [
    {
     "ename": "KeyboardInterrupt",
     "evalue": "",
     "output_type": "error",
     "traceback": [
      "\u001b[1;31m---------------------------------------------------------------------------\u001b[0m",
      "\u001b[1;31mKeyboardInterrupt\u001b[0m                         Traceback (most recent call last)",
      "Input \u001b[1;32mIn [70]\u001b[0m, in \u001b[0;36m<cell line: 4>\u001b[1;34m()\u001b[0m\n\u001b[0;32m      5\u001b[0m \u001b[38;5;28;01mfor\u001b[39;00m j \u001b[38;5;129;01min\u001b[39;00m [a,b]:\n\u001b[0;32m      6\u001b[0m     \u001b[38;5;28;01mwhile\u001b[39;00m \u001b[38;5;28mlen\u001b[39m(a) \u001b[38;5;241m>\u001b[39m \u001b[38;5;241m1\u001b[39m:\n\u001b[1;32m----> 7\u001b[0m         a,b \u001b[38;5;241m=\u001b[39m divide(i)\n\u001b[0;32m      8\u001b[0m         \u001b[38;5;28;01mif\u001b[39;00m \u001b[38;5;28mlen\u001b[39m(a) \u001b[38;5;241m==\u001b[39m \u001b[38;5;241m1\u001b[39m \u001b[38;5;129;01mand\u001b[39;00m \u001b[38;5;28mlen\u001b[39m(b) \u001b[38;5;241m==\u001b[39m \u001b[38;5;241m1\u001b[39m:\n\u001b[0;32m      9\u001b[0m             lst\u001b[38;5;241m.\u001b[39mappend(a[\u001b[38;5;241m0\u001b[39m])\n",
      "\u001b[1;31mKeyboardInterrupt\u001b[0m: "
     ]
    }
   ],
   "source": [
    "lst = []\n",
    "a,b = divide(Array)\n",
    "\n",
    "for i in [a,b]:\n",
    "    for j in [a,b]:\n",
    "        while len(a) > 1:\n",
    "            a,b = divide(i)\n",
    "            if len(a) == 1 and len(b) == 1:\n",
    "                lst.append(a[0])\n",
    "                lst.append(b[0])\n",
    "        while len(a) > 1:\n",
    "            a,b = divide(j)\n",
    "            if len(a) == 1 and len(b) == 1:\n",
    "                lst.append(a[0])\n",
    "                lst.append(b[0])"
   ]
  },
  {
   "cell_type": "code",
   "execution_count": 82,
   "metadata": {},
   "outputs": [],
   "source": [
    "a = [1,5,3,7,2,6,4,8]\n",
    "lst = []\n",
    "\n",
    "a = divide(a)"
   ]
  },
  {
   "cell_type": "code",
   "execution_count": null,
   "metadata": {},
   "outputs": [],
   "source": []
  }
 ],
 "metadata": {
  "kernelspec": {
   "display_name": "Python 3 (ipykernel)",
   "language": "python",
   "name": "python3"
  },
  "language_info": {
   "codemirror_mode": {
    "name": "ipython",
    "version": 3
   },
   "file_extension": ".py",
   "mimetype": "text/x-python",
   "name": "python",
   "nbconvert_exporter": "python",
   "pygments_lexer": "ipython3",
   "version": "3.9.12"
  },
  "vscode": {
   "interpreter": {
    "hash": "78f4d5eeabc4f1e607735e70d3a6d61402e9870b2eee08b6d7fa4247345d95ad"
   }
  }
 },
 "nbformat": 4,
 "nbformat_minor": 2
}
