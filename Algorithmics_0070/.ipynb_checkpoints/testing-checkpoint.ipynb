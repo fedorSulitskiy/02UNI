{
 "cells": [
  {
   "cell_type": "code",
   "execution_count": 1,
   "metadata": {},
   "outputs": [],
   "source": [
    "import algorithmics as alg\n",
    "import numpy as np\n",
    "import operator"
   ]
  },
  {
   "cell_type": "code",
   "execution_count": 2,
   "metadata": {},
   "outputs": [
    {
     "name": "stdout",
     "output_type": "stream",
     "text": [
      "[1, 2, 3, 4, 5, 6, 7, 8] --> [1, 2, 3, 4]  +  [5, 6, 7, 8]\n",
      "RIGHT [5, 6, 7, 8] \n",
      "\n",
      "[5, 6, 7, 8] --> [5, 6]  +  [7, 8]\n",
      "LEFT [5, 6] \n",
      "\n",
      "[5, 6] --> [5]  +  [6]\n",
      "LEFT [5] \n",
      "\n"
     ]
    },
    {
     "data": {
      "text/plain": [
       "5"
      ]
     },
     "execution_count": 2,
     "metadata": {},
     "output_type": "execute_result"
    }
   ],
   "source": [
    "Array = [1,2,3,4,5,6,7,8]\n",
    "x = 5\n",
    "alg.BinSearch(Array,x,True)"
   ]
  },
  {
   "cell_type": "code",
   "execution_count": 93,
   "metadata": {},
   "outputs": [],
   "source": [
    "Array = [1,5,3,7,2,6,4,8]\n",
    "Array1 = [1,5,3,7]\n",
    "Array2 = [2,6,4,8]\n",
    "\n",
    "a = [1,2,5]\n",
    "b = [3,4,6]\n",
    "\n",
    "def conquer(a,b):\n",
    "    ac = 0\n",
    "    bc = 0\n",
    "    lst =[]\n",
    "    for i in range(len(a)+len(b)):\n",
    "        if ac < len(a) and bc < len(b):\n",
    "            if a[ac] <= b[bc]:\n",
    "                lst.append(a[ac])\n",
    "                ac += 1\n",
    "                #print(lst,ac,'ac')\n",
    "            else:\n",
    "                lst.append(b[bc])\n",
    "                bc += 1\n",
    "                #print(lst,bc,'bc')\n",
    "        else:\n",
    "            if ac == len(a):\n",
    "                lst = lst + [i for i in b if i not in lst]\n",
    "            else:\n",
    "                lst = lst + [i for i in a if i not in lst]\n",
    "    return lst\n",
    "\n",
    "def divide(Array):\n",
    "    if len(Array) == 1:\n",
    "        return [Array]\n",
    "    half = int(round(len(Array)/2))\n",
    "    a = Array[:half]\n",
    "    b = Array[half:] \n",
    "    return [a,b]"
   ]
  },
  {
   "cell_type": "code",
   "execution_count": 100,
   "metadata": {},
   "outputs": [],
   "source": [
    "Array = [1,5,3,7,2,6,4,8]\n",
    "lst = []\n",
    "\n",
    "def divide(Array):\n",
    "    if len(Array) == 1:\n",
    "        return [Array]\n",
    "    half = int(round(len(Array)/2))\n",
    "    a = Array[:half]\n",
    "    b = Array[half:] \n",
    "    return [a,b]\n",
    "\n",
    "a = divide(Array)\n",
    "\n",
    "while len(a) != len(b):\n",
    "    for i in a:\n",
    "        a = a + divide(i)\n",
    "        a.remove(i)"
   ]
  },
  {
   "cell_type": "code",
   "execution_count": 101,
   "metadata": {},
   "outputs": [
    {
     "data": {
      "text/plain": [
       "[[1], [5], [3], [7], [2], [6], [4], [8]]"
      ]
     },
     "execution_count": 101,
     "metadata": {},
     "output_type": "execute_result"
    }
   ],
   "source": [
    "a"
   ]
  }
 ],
 "metadata": {
  "kernelspec": {
   "display_name": "Python 3 (ipykernel)",
   "language": "python",
   "name": "python3"
  },
  "language_info": {
   "codemirror_mode": {
    "name": "ipython",
    "version": 3
   },
   "file_extension": ".py",
   "mimetype": "text/x-python",
   "name": "python",
   "nbconvert_exporter": "python",
   "pygments_lexer": "ipython3",
   "version": "3.9.12"
  },
  "vscode": {
   "interpreter": {
    "hash": "78f4d5eeabc4f1e607735e70d3a6d61402e9870b2eee08b6d7fa4247345d95ad"
   }
  }
 },
 "nbformat": 4,
 "nbformat_minor": 2
}
