{
 "cells": [
  {
   "cell_type": "code",
   "execution_count": 1,
   "metadata": {},
   "outputs": [],
   "source": [
    "import algorithmics as alg\n",
    "import numpy as np\n",
    "import operator"
   ]
  },
  {
   "cell_type": "code",
   "execution_count": 2,
   "metadata": {},
   "outputs": [
    {
     "name": "stdout",
     "output_type": "stream",
     "text": [
      "[1, 2, 3, 4, 5, 6, 7, 8] --> [1, 2, 3, 4]  +  [5, 6, 7, 8]\n",
      "RIGHT [5, 6, 7, 8] \n",
      "\n",
      "[5, 6, 7, 8] --> [5, 6]  +  [7, 8]\n",
      "LEFT [5, 6] \n",
      "\n",
      "[5, 6] --> [5]  +  [6]\n",
      "LEFT [5] \n",
      "\n"
     ]
    },
    {
     "data": {
      "text/plain": [
       "5"
      ]
     },
     "execution_count": 2,
     "metadata": {},
     "output_type": "execute_result"
    }
   ],
   "source": [
    "Array = [1,2,3,4,5,6,7,8]\n",
    "x = 5\n",
    "alg.BinSearch(Array,x,True)"
   ]
  },
  {
   "cell_type": "code",
   "execution_count": 93,
   "metadata": {},
   "outputs": [],
   "source": [
    "Array = [1,5,3,7,2,6,4,8]\n",
    "Array1 = [1,5,3,7]\n",
    "Array2 = [2,6,4,8]\n",
    "\n",
    "a = [1,2,5]\n",
    "b = [3,4,6]\n",
    "\n",
    "def conquer(a,b):\n",
    "    ac = 0\n",
    "    bc = 0\n",
    "    lst =[]\n",
    "    for i in range(len(a)+len(b)):\n",
    "        if ac < len(a) and bc < len(b):\n",
    "            if a[ac] <= b[bc]:\n",
    "                lst.append(a[ac])\n",
    "                ac += 1\n",
    "                #print(lst,ac,'ac')\n",
    "            else:\n",
    "                lst.append(b[bc])\n",
    "                bc += 1\n",
    "                #print(lst,bc,'bc')\n",
    "        else:\n",
    "            if ac == len(a):\n",
    "                lst = lst + [i for i in b if i not in lst]\n",
    "            else:\n",
    "                lst = lst + [i for i in a if i not in lst]\n",
    "    return lst\n",
    "\n",
    "def divide(Array):\n",
    "    if len(Array) == 1:\n",
    "        return [Array]\n",
    "    half = int(round(len(Array)/2))\n",
    "    a = Array[:half]\n",
    "    b = Array[half:] \n",
    "    return [a,b]"
   ]
  },
  {
   "cell_type": "code",
   "execution_count": 183,
   "metadata": {},
   "outputs": [
    {
     "name": "stdout",
     "output_type": "stream",
     "text": [
      "[[1, 5, 3, 7], [2, 6, 4, 8]]\n",
      "[[2, 6, 4, 8], [1, 5], [3, 7]]\n",
      "[[1, 5], [3, 7], [2, 6], [4, 8]]\n",
      "[[3, 7], [2, 6], [4, 8], [1], [5]]\n",
      "[[2, 6], [4, 8], [1], [5], [3], [7]]\n",
      "[[4, 8], [1], [5], [3], [7], [2], [6]]\n",
      "[[1], [5], [3], [7], [2], [6], [4], [8]]\n",
      "LETS FUCKING GO\n",
      "[[3], [7], [2], [6], [4], [8], [1, 5]] [4, 8]\n",
      "[[2], [6], [4], [8], [1, 5], [3, 7]] [4, 8]\n",
      "[[4], [8], [1, 5], [3, 7], [2, 6]] [4, 8]\n",
      "[[1, 5], [3, 7], [2, 6], [4, 8]] [4, 8]\n",
      "[[2, 6], [4, 8], [1, 3, 5, 7]] [4, 8]\n",
      "[[1, 3, 5, 7], [2, 4, 6, 8]] [4, 8]\n",
      "[[1, 2, 3, 4, 5, 6, 7, 8]] [4, 8]\n"
     ]
    }
   ],
   "source": [
    "Array = [1,5,3,7,2,6,4,8]\n",
    "\n",
    "def conquer(a,b):\n",
    "    ac = 0\n",
    "    bc = 0\n",
    "    lst =[]\n",
    "    for i in range(len(a)+len(b)):\n",
    "        if ac < len(a) and bc < len(b):\n",
    "            if a[ac] <= b[bc]:\n",
    "                lst.append(a[ac])\n",
    "                ac += 1\n",
    "                #print(lst,ac,'ac')\n",
    "            else:\n",
    "                lst.append(b[bc])\n",
    "                bc += 1\n",
    "                #print(lst,bc,'bc')\n",
    "        else:\n",
    "            if ac == len(a):\n",
    "                lst = lst + [i for i in b if i not in lst]\n",
    "            else:\n",
    "                lst = lst + [i for i in a if i not in lst]\n",
    "    return lst\n",
    "\n",
    "def divide(Array):\n",
    "    if len(Array) == 1:\n",
    "        return [Array]\n",
    "    half = int(round(len(Array)/2))\n",
    "    a = Array[:half]\n",
    "    b = Array[half:] \n",
    "    return [a,b]\n",
    "\n",
    "a = divide(Array)\n",
    "print(a)\n",
    "\n",
    "while len(a) != len(b):\n",
    "    for i in a:\n",
    "        a = a + divide(i)\n",
    "        a.remove(i)\n",
    "        print(a)\n",
    "\n",
    "print('LETS FUCKING GO')\n",
    "\n",
    "while len(a)!=1:\n",
    "    x = a[0]\n",
    "    y = a[1]\n",
    "    a += [conquer(x,y)]\n",
    "    a.remove(x)\n",
    "    a.remove(y)\n",
    "    print(a,i)"
   ]
  },
  {
   "cell_type": "code",
   "execution_count": 179,
   "metadata": {},
   "outputs": [],
   "source": [
    "a = [[1],[2],[5],[4]]\n",
    "l = len(a)\n",
    "while len(lst[0]) != l:\n",
    "    lst = []\n",
    "    rng = len(a)\n",
    "    for i in range(0,rng,2):\n",
    "        lst = lst + [conquer(a[i],a[i+1])]\n",
    "        print(i,i+1)\n",
    "    a = lst\n",
    "    print(lst)"
   ]
  },
  {
   "cell_type": "code",
   "execution_count": 139,
   "metadata": {},
   "outputs": [
    {
     "data": {
      "text/plain": [
       "[[1, 2], [4, 5]]"
      ]
     },
     "execution_count": 139,
     "metadata": {},
     "output_type": "execute_result"
    }
   ],
   "source": [
    "a"
   ]
  },
  {
   "cell_type": "code",
   "execution_count": 140,
   "metadata": {},
   "outputs": [
    {
     "data": {
      "text/plain": [
       "[[1, 2], [4, 5]]"
      ]
     },
     "execution_count": 140,
     "metadata": {},
     "output_type": "execute_result"
    }
   ],
   "source": [
    "lst"
   ]
  },
  {
   "cell_type": "code",
   "execution_count": 159,
   "metadata": {},
   "outputs": [
    {
     "name": "stdout",
     "output_type": "stream",
     "text": [
      "0\n",
      "2\n"
     ]
    }
   ],
   "source": [
    "for i in range(0,4,2):\n",
    "    print(i)"
   ]
  },
  {
   "cell_type": "code",
   "execution_count": null,
   "metadata": {},
   "outputs": [],
   "source": []
  },
  {
   "cell_type": "code",
   "execution_count": 177,
   "metadata": {},
   "outputs": [
    {
     "name": "stdout",
     "output_type": "stream",
     "text": [
      "[[5], [4], [1, 6]] 2\n",
      "[[1, 6], [4, 5]] 2\n",
      "[[1, 4, 5, 6]] 2\n"
     ]
    }
   ],
   "source": [
    "a = [[1],[6],[5],[4]]\n",
    "\n",
    "while len(a)!=1:\n",
    "    x = a[0]\n",
    "    y = a[1]\n",
    "    a += [conquer(x,y)]\n",
    "    a.remove(x)\n",
    "    a.remove(y)\n",
    "    print(a,i)"
   ]
  }
 ],
 "metadata": {
  "kernelspec": {
   "display_name": "Python 3 (ipykernel)",
   "language": "python",
   "name": "python3"
  },
  "language_info": {
   "codemirror_mode": {
    "name": "ipython",
    "version": 3
   },
   "file_extension": ".py",
   "mimetype": "text/x-python",
   "name": "python",
   "nbconvert_exporter": "python",
   "pygments_lexer": "ipython3",
   "version": "3.9.12"
  },
  "vscode": {
   "interpreter": {
    "hash": "78f4d5eeabc4f1e607735e70d3a6d61402e9870b2eee08b6d7fa4247345d95ad"
   }
  }
 },
 "nbformat": 4,
 "nbformat_minor": 2
}
