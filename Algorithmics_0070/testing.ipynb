{
 "cells": [
  {
   "cell_type": "code",
   "execution_count": 1,
   "metadata": {},
   "outputs": [],
   "source": [
    "import algorithmics as alg\n",
    "import numpy as np\n",
    "import operator"
   ]
  },
  {
   "cell_type": "code",
   "execution_count": 2,
   "metadata": {},
   "outputs": [
    {
     "name": "stdout",
     "output_type": "stream",
     "text": [
      "[1, 2, 3, 4, 5, 6, 7, 8] --> [1, 2, 3, 4]  +  [5, 6, 7, 8]\n",
      "RIGHT [5, 6, 7, 8] \n",
      "\n",
      "[5, 6, 7, 8] --> [5, 6]  +  [7, 8]\n",
      "LEFT [5, 6] \n",
      "\n",
      "[5, 6] --> [5]  +  [6]\n",
      "LEFT [5] \n",
      "\n"
     ]
    },
    {
     "data": {
      "text/plain": [
       "5"
      ]
     },
     "execution_count": 2,
     "metadata": {},
     "output_type": "execute_result"
    }
   ],
   "source": [
    "Array = [1,2,3,4,5,6,7,8]\n",
    "x = 5\n",
    "alg.BinSearch(Array,x,True)"
   ]
  }
 ],
 "metadata": {
  "kernelspec": {
   "display_name": "Python 3 (ipykernel)",
   "language": "python",
   "name": "python3"
  },
  "language_info": {
   "codemirror_mode": {
    "name": "ipython",
    "version": 3
   },
   "file_extension": ".py",
   "mimetype": "text/x-python",
   "name": "python",
   "nbconvert_exporter": "python",
   "pygments_lexer": "ipython3",
   "version": "3.9.12"
  },
  "vscode": {
   "interpreter": {
    "hash": "78f4d5eeabc4f1e607735e70d3a6d61402e9870b2eee08b6d7fa4247345d95ad"
   }
  }
 },
 "nbformat": 4,
 "nbformat_minor": 2
}
