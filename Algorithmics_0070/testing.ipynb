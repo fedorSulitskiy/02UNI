{
 "cells": [
  {
   "cell_type": "code",
   "execution_count": 4,
   "metadata": {},
   "outputs": [],
   "source": [
    "import algorithmics as alg\n",
    "import numpy as np\n",
    "import operator"
   ]
  },
  {
   "cell_type": "code",
   "execution_count": 12,
   "metadata": {},
   "outputs": [],
   "source": [
    "def Floyd(Array):\n",
    "    D = Array\n",
    "    for k in range(len(Array)):\n",
    "        for i in range(len(Array)):\n",
    "            for j in range(len(Array)):\n",
    "                D[i][j] = min(D[i][j],D[i][k] + D[k][j])\n",
    "                if D[i][j] != Array[i][j]:\n",
    "                    print(k,i,j)\n",
    "    return D"
   ]
  },
  {
   "cell_type": "code",
   "execution_count": 13,
   "metadata": {},
   "outputs": [
    {
     "data": {
      "text/plain": [
       "[[0, 3, 6, 4, 4],\n",
       " [6, 0, 3, 2, 1],\n",
       " [inf, inf, 0, inf, inf],\n",
       " [4, 7, 5, 0, 3],\n",
       " [6, 9, 2, 2, 0]]"
      ]
     },
     "execution_count": 13,
     "metadata": {},
     "output_type": "execute_result"
    }
   ],
   "source": [
    "Floyd(Array)"
   ]
  },
  {
   "cell_type": "code",
   "execution_count": 7,
   "metadata": {},
   "outputs": [],
   "source": [
    "Array = [[0, 3, np.inf, 4, np.inf],\n",
    "       [np.inf, 0, 4, 2, 1],\n",
    "       [np.inf, np.inf, 0, np.inf, np.inf],\n",
    "       [4, np.inf, np.inf, 0, 3],\n",
    "       [np.inf, np.inf, 2, 2, 0]]"
   ]
  },
  {
   "cell_type": "code",
   "execution_count": null,
   "metadata": {},
   "outputs": [],
   "source": []
  }
 ],
 "metadata": {
  "kernelspec": {
   "display_name": "Python 3",
   "language": "python",
   "name": "python3"
  },
  "language_info": {
   "codemirror_mode": {
    "name": "ipython",
    "version": 3
   },
   "file_extension": ".py",
   "mimetype": "text/x-python",
   "name": "python",
   "nbconvert_exporter": "python",
   "pygments_lexer": "ipython3",
   "version": "3.8.3"
  },
  "vscode": {
   "interpreter": {
    "hash": "78f4d5eeabc4f1e607735e70d3a6d61402e9870b2eee08b6d7fa4247345d95ad"
   }
  }
 },
 "nbformat": 4,
 "nbformat_minor": 2
}
